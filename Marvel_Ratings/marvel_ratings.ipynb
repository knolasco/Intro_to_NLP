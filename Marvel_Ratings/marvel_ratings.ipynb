{
 "cells": [
  {
   "cell_type": "code",
   "execution_count": 48,
   "metadata": {},
   "outputs": [],
   "source": [
    "import pandas as pd"
   ]
  },
  {
   "cell_type": "code",
   "execution_count": 49,
   "metadata": {},
   "outputs": [
    {
     "data": {
      "text/html": [
       "<div>\n",
       "<style scoped>\n",
       "    .dataframe tbody tr th:only-of-type {\n",
       "        vertical-align: middle;\n",
       "    }\n",
       "\n",
       "    .dataframe tbody tr th {\n",
       "        vertical-align: top;\n",
       "    }\n",
       "\n",
       "    .dataframe thead th {\n",
       "        text-align: right;\n",
       "    }\n",
       "</style>\n",
       "<table border=\"1\" class=\"dataframe\">\n",
       "  <thead>\n",
       "    <tr style=\"text-align: right;\">\n",
       "      <th></th>\n",
       "      <th>MovieName</th>\n",
       "      <th>MovieId</th>\n",
       "      <th>CommentAuthor</th>\n",
       "      <th>OriginalComment</th>\n",
       "    </tr>\n",
       "  </thead>\n",
       "  <tbody>\n",
       "    <tr>\n",
       "      <th>0</th>\n",
       "      <td>Iron Man</td>\n",
       "      <td>8ugaeA-nMTc</td>\n",
       "      <td>UC1bmGHVTIBOerbW2P-pJsog</td>\n",
       "      <td>2:10 2:11</td>\n",
       "    </tr>\n",
       "    <tr>\n",
       "      <th>1</th>\n",
       "      <td>Iron Man</td>\n",
       "      <td>8ugaeA-nMTc</td>\n",
       "      <td>UC7A-gvQcpTmkBs1c0FJU92Q</td>\n",
       "      <td>This just shows the whole movie lmao😂</td>\n",
       "    </tr>\n",
       "    <tr>\n",
       "      <th>2</th>\n",
       "      <td>Iron Man</td>\n",
       "      <td>8ugaeA-nMTc</td>\n",
       "      <td>UC4r37ZNp-chrosonJ2VsdEg</td>\n",
       "      <td>14 years</td>\n",
       "    </tr>\n",
       "    <tr>\n",
       "      <th>3</th>\n",
       "      <td>Iron Man</td>\n",
       "      <td>8ugaeA-nMTc</td>\n",
       "      <td>UC0QY_nzoJvlb5z-dfwnVGsA</td>\n",
       "      <td>2:14</td>\n",
       "    </tr>\n",
       "    <tr>\n",
       "      <th>4</th>\n",
       "      <td>Iron Man</td>\n",
       "      <td>8ugaeA-nMTc</td>\n",
       "      <td>UC0QY_nzoJvlb5z-dfwnVGsA</td>\n",
       "      <td>2:15</td>\n",
       "    </tr>\n",
       "  </tbody>\n",
       "</table>\n",
       "</div>"
      ],
      "text/plain": [
       "  MovieName      MovieId             CommentAuthor  \\\n",
       "0  Iron Man  8ugaeA-nMTc  UC1bmGHVTIBOerbW2P-pJsog   \n",
       "1  Iron Man  8ugaeA-nMTc  UC7A-gvQcpTmkBs1c0FJU92Q   \n",
       "2  Iron Man  8ugaeA-nMTc  UC4r37ZNp-chrosonJ2VsdEg   \n",
       "3  Iron Man  8ugaeA-nMTc  UC0QY_nzoJvlb5z-dfwnVGsA   \n",
       "4  Iron Man  8ugaeA-nMTc  UC0QY_nzoJvlb5z-dfwnVGsA   \n",
       "\n",
       "                         OriginalComment  \n",
       "0                              2:10 2:11  \n",
       "1  This just shows the whole movie lmao😂  \n",
       "2                               14 years  \n",
       "3                                   2:14  \n",
       "4                                   2:15  "
      ]
     },
     "execution_count": 49,
     "metadata": {},
     "output_type": "execute_result"
    }
   ],
   "source": [
    "data = pd.read_json('data/movie_comments.json')\n",
    "data.head()"
   ]
  },
  {
   "cell_type": "code",
   "execution_count": 51,
   "metadata": {},
   "outputs": [
    {
     "data": {
      "text/plain": [
       "25398           Imagine a stan lee's cameo in this movie 😋\n",
       "25399              I wish Stan lee seeing this masterpiece\n",
       "25400                                                Super\n",
       "25401    Overrated. Why? Villains defeated almost insta...\n",
       "25402    One of the most darkest Spider Man movies ever...\n",
       "25403    Why am I feeling like I'm losing everything I ...\n",
       "25404    I saw the movie and I have simply re-entitled ...\n",
       "25405                                         Peter tingle\n",
       "25406                                                    p\n",
       "25407                        Nonton gratis di layarkaca 21\n",
       "Name: OriginalComment, dtype: object"
      ]
     },
     "execution_count": 51,
     "metadata": {},
     "output_type": "execute_result"
    }
   ],
   "source": [
    "data[data['MovieName'] == 'Spider-Man: No Way Home']['OriginalComment'].iloc[:10]"
   ]
  },
  {
   "cell_type": "code",
   "execution_count": 54,
   "metadata": {},
   "outputs": [
    {
     "data": {
      "text/plain": [
       "26"
      ]
     },
     "execution_count": 54,
     "metadata": {},
     "output_type": "execute_result"
    }
   ],
   "source": [
    "data['MovieName'].nunique()"
   ]
  }
 ],
 "metadata": {
  "interpreter": {
   "hash": "fa607682703138a2778b02fe9a5d78001fd3f08816a418842d8bcb7d618179ec"
  },
  "kernelspec": {
   "display_name": "Python 3.9.5 ('venv': venv)",
   "language": "python",
   "name": "python3"
  },
  "language_info": {
   "codemirror_mode": {
    "name": "ipython",
    "version": 3
   },
   "file_extension": ".py",
   "mimetype": "text/x-python",
   "name": "python",
   "nbconvert_exporter": "python",
   "pygments_lexer": "ipython3",
   "version": "3.9.5"
  },
  "orig_nbformat": 4
 },
 "nbformat": 4,
 "nbformat_minor": 2
}
