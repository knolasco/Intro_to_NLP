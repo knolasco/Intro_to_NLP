{
 "cells": [
  {
   "cell_type": "markdown",
   "metadata": {},
   "source": [
    "# Predicting Marvel Movie Ratings from YouTube Comments\n",
    "\n",
    "Kevin Nolasco\n",
    "\n",
    "Cabrini University\n",
    "\n",
    "MCIS565 - Natural Language Processing\n",
    "\n",
    "05/13/2022"
   ]
  },
  {
   "cell_type": "markdown",
   "metadata": {},
   "source": [
    "![MarvelRatings_Flow.jpg](MarvelRatings_Flow.jpg)"
   ]
  },
  {
   "cell_type": "markdown",
   "metadata": {},
   "source": [
    "## Load Data"
   ]
  },
  {
   "cell_type": "code",
   "execution_count": 9,
   "metadata": {},
   "outputs": [],
   "source": [
    "import pandas as pd"
   ]
  },
  {
   "cell_type": "code",
   "execution_count": 10,
   "metadata": {},
   "outputs": [
    {
     "data": {
      "text/html": [
       "<div>\n",
       "<style scoped>\n",
       "    .dataframe tbody tr th:only-of-type {\n",
       "        vertical-align: middle;\n",
       "    }\n",
       "\n",
       "    .dataframe tbody tr th {\n",
       "        vertical-align: top;\n",
       "    }\n",
       "\n",
       "    .dataframe thead th {\n",
       "        text-align: right;\n",
       "    }\n",
       "</style>\n",
       "<table border=\"1\" class=\"dataframe\">\n",
       "  <thead>\n",
       "    <tr style=\"text-align: right;\">\n",
       "      <th></th>\n",
       "      <th>MovieName</th>\n",
       "      <th>MovieId</th>\n",
       "      <th>CommentAuthor</th>\n",
       "      <th>OriginalComment</th>\n",
       "    </tr>\n",
       "  </thead>\n",
       "  <tbody>\n",
       "    <tr>\n",
       "      <th>0</th>\n",
       "      <td>Iron Man</td>\n",
       "      <td>8ugaeA-nMTc</td>\n",
       "      <td>UCQzG9JFe87-FrpMAVZjX_Kg</td>\n",
       "      <td>honestly this is still the best marvel movie imo</td>\n",
       "    </tr>\n",
       "    <tr>\n",
       "      <th>1</th>\n",
       "      <td>Iron Man</td>\n",
       "      <td>8ugaeA-nMTc</td>\n",
       "      <td>UC1bmGHVTIBOerbW2P-pJsog</td>\n",
       "      <td>2:10 2:11</td>\n",
       "    </tr>\n",
       "    <tr>\n",
       "      <th>2</th>\n",
       "      <td>Iron Man</td>\n",
       "      <td>8ugaeA-nMTc</td>\n",
       "      <td>UC7A-gvQcpTmkBs1c0FJU92Q</td>\n",
       "      <td>This just shows the whole movie lmao😂</td>\n",
       "    </tr>\n",
       "    <tr>\n",
       "      <th>3</th>\n",
       "      <td>Iron Man</td>\n",
       "      <td>8ugaeA-nMTc</td>\n",
       "      <td>UC4r37ZNp-chrosonJ2VsdEg</td>\n",
       "      <td>14 years</td>\n",
       "    </tr>\n",
       "    <tr>\n",
       "      <th>4</th>\n",
       "      <td>Iron Man</td>\n",
       "      <td>8ugaeA-nMTc</td>\n",
       "      <td>UC0QY_nzoJvlb5z-dfwnVGsA</td>\n",
       "      <td>2:14</td>\n",
       "    </tr>\n",
       "  </tbody>\n",
       "</table>\n",
       "</div>"
      ],
      "text/plain": [
       "  MovieName      MovieId             CommentAuthor  \\\n",
       "0  Iron Man  8ugaeA-nMTc  UCQzG9JFe87-FrpMAVZjX_Kg   \n",
       "1  Iron Man  8ugaeA-nMTc  UC1bmGHVTIBOerbW2P-pJsog   \n",
       "2  Iron Man  8ugaeA-nMTc  UC7A-gvQcpTmkBs1c0FJU92Q   \n",
       "3  Iron Man  8ugaeA-nMTc  UC4r37ZNp-chrosonJ2VsdEg   \n",
       "4  Iron Man  8ugaeA-nMTc  UC0QY_nzoJvlb5z-dfwnVGsA   \n",
       "\n",
       "                                    OriginalComment  \n",
       "0  honestly this is still the best marvel movie imo  \n",
       "1                                         2:10 2:11  \n",
       "2             This just shows the whole movie lmao😂  \n",
       "3                                          14 years  \n",
       "4                                              2:14  "
      ]
     },
     "execution_count": 10,
     "metadata": {},
     "output_type": "execute_result"
    }
   ],
   "source": [
    "df_comments = pd.read_json('data/movie_comments.json')\n",
    "df_ratings = pd.read_json('data/movie_ratings.json')"
   ]
  },
  {
   "cell_type": "markdown",
   "metadata": {},
   "source": [
    "## EDA and Data Cleaning"
   ]
  },
  {
   "cell_type": "markdown",
   "metadata": {},
   "source": [
    "First we will inspect the comments dataset and clean it so we can use it later.\n",
    "\n",
    "Since our data is taken from YouTube comments, there is a chance that we see repeated comments; the repeated comments could be considered spam and will will remove them."
   ]
  },
  {
   "cell_type": "code",
   "execution_count": 18,
   "metadata": {},
   "outputs": [
    {
     "data": {
      "text/html": [
       "<div>\n",
       "<style scoped>\n",
       "    .dataframe tbody tr th:only-of-type {\n",
       "        vertical-align: middle;\n",
       "    }\n",
       "\n",
       "    .dataframe tbody tr th {\n",
       "        vertical-align: top;\n",
       "    }\n",
       "\n",
       "    .dataframe thead th {\n",
       "        text-align: right;\n",
       "    }\n",
       "</style>\n",
       "<table border=\"1\" class=\"dataframe\">\n",
       "  <thead>\n",
       "    <tr style=\"text-align: right;\">\n",
       "      <th></th>\n",
       "      <th>MovieName</th>\n",
       "      <th>MovieId</th>\n",
       "      <th>CommentAuthor</th>\n",
       "      <th>OriginalComment</th>\n",
       "    </tr>\n",
       "  </thead>\n",
       "  <tbody>\n",
       "    <tr>\n",
       "      <th>90388</th>\n",
       "      <td>Spider-Man: No Way Home</td>\n",
       "      <td>ZYzbalQ6Lg8</td>\n",
       "      <td>UC4eL8LDWE75VraK9UfSlonQ</td>\n",
       "      <td>Malayalam please 😟😟😟</td>\n",
       "    </tr>\n",
       "    <tr>\n",
       "      <th>90389</th>\n",
       "      <td>Spider-Man: No Way Home</td>\n",
       "      <td>ZYzbalQ6Lg8</td>\n",
       "      <td>UC4eL8LDWE75VraK9UfSlonQ</td>\n",
       "      <td>Malayalam please 😟😟😟</td>\n",
       "    </tr>\n",
       "    <tr>\n",
       "      <th>90390</th>\n",
       "      <td>Spider-Man: No Way Home</td>\n",
       "      <td>ZYzbalQ6Lg8</td>\n",
       "      <td>UC4eL8LDWE75VraK9UfSlonQ</td>\n",
       "      <td>Malayalam please 😟😟😟</td>\n",
       "    </tr>\n",
       "    <tr>\n",
       "      <th>90391</th>\n",
       "      <td>Spider-Man: No Way Home</td>\n",
       "      <td>ZYzbalQ6Lg8</td>\n",
       "      <td>UC4eL8LDWE75VraK9UfSlonQ</td>\n",
       "      <td>Malayalam please 😟😟😟</td>\n",
       "    </tr>\n",
       "    <tr>\n",
       "      <th>90392</th>\n",
       "      <td>Spider-Man: No Way Home</td>\n",
       "      <td>ZYzbalQ6Lg8</td>\n",
       "      <td>UC4eL8LDWE75VraK9UfSlonQ</td>\n",
       "      <td>Malayalam please 😟😟😟</td>\n",
       "    </tr>\n",
       "  </tbody>\n",
       "</table>\n",
       "</div>"
      ],
      "text/plain": [
       "                     MovieName      MovieId             CommentAuthor  \\\n",
       "90388  Spider-Man: No Way Home  ZYzbalQ6Lg8  UC4eL8LDWE75VraK9UfSlonQ   \n",
       "90389  Spider-Man: No Way Home  ZYzbalQ6Lg8  UC4eL8LDWE75VraK9UfSlonQ   \n",
       "90390  Spider-Man: No Way Home  ZYzbalQ6Lg8  UC4eL8LDWE75VraK9UfSlonQ   \n",
       "90391  Spider-Man: No Way Home  ZYzbalQ6Lg8  UC4eL8LDWE75VraK9UfSlonQ   \n",
       "90392  Spider-Man: No Way Home  ZYzbalQ6Lg8  UC4eL8LDWE75VraK9UfSlonQ   \n",
       "\n",
       "            OriginalComment  \n",
       "90388  Malayalam please 😟😟😟  \n",
       "90389  Malayalam please 😟😟😟  \n",
       "90390  Malayalam please 😟😟😟  \n",
       "90391  Malayalam please 😟😟😟  \n",
       "90392  Malayalam please 😟😟😟  "
      ]
     },
     "execution_count": 18,
     "metadata": {},
     "output_type": "execute_result"
    }
   ],
   "source": [
    "# inspect the duplicated comments\n",
    "df_comments[df_comments.duplicated(['CommentAuthor', 'OriginalComment'])].tail()"
   ]
  },
  {
   "cell_type": "code",
   "execution_count": 20,
   "metadata": {},
   "outputs": [
    {
     "data": {
      "text/html": [
       "<div>\n",
       "<style scoped>\n",
       "    .dataframe tbody tr th:only-of-type {\n",
       "        vertical-align: middle;\n",
       "    }\n",
       "\n",
       "    .dataframe tbody tr th {\n",
       "        vertical-align: top;\n",
       "    }\n",
       "\n",
       "    .dataframe thead th {\n",
       "        text-align: right;\n",
       "    }\n",
       "</style>\n",
       "<table border=\"1\" class=\"dataframe\">\n",
       "  <thead>\n",
       "    <tr style=\"text-align: right;\">\n",
       "      <th></th>\n",
       "      <th>MovieName</th>\n",
       "      <th>MovieId</th>\n",
       "      <th>CommentAuthor</th>\n",
       "      <th>OriginalComment</th>\n",
       "    </tr>\n",
       "  </thead>\n",
       "  <tbody>\n",
       "    <tr>\n",
       "      <th>0</th>\n",
       "      <td>Iron Man</td>\n",
       "      <td>8ugaeA-nMTc</td>\n",
       "      <td>UCQzG9JFe87-FrpMAVZjX_Kg</td>\n",
       "      <td>honestly this is still the best marvel movie imo</td>\n",
       "    </tr>\n",
       "    <tr>\n",
       "      <th>1</th>\n",
       "      <td>Iron Man</td>\n",
       "      <td>8ugaeA-nMTc</td>\n",
       "      <td>UC1bmGHVTIBOerbW2P-pJsog</td>\n",
       "      <td>2:10 2:11</td>\n",
       "    </tr>\n",
       "    <tr>\n",
       "      <th>2</th>\n",
       "      <td>Iron Man</td>\n",
       "      <td>8ugaeA-nMTc</td>\n",
       "      <td>UC7A-gvQcpTmkBs1c0FJU92Q</td>\n",
       "      <td>This just shows the whole movie lmao😂</td>\n",
       "    </tr>\n",
       "    <tr>\n",
       "      <th>3</th>\n",
       "      <td>Iron Man</td>\n",
       "      <td>8ugaeA-nMTc</td>\n",
       "      <td>UC4r37ZNp-chrosonJ2VsdEg</td>\n",
       "      <td>14 years</td>\n",
       "    </tr>\n",
       "    <tr>\n",
       "      <th>4</th>\n",
       "      <td>Iron Man</td>\n",
       "      <td>8ugaeA-nMTc</td>\n",
       "      <td>UC0QY_nzoJvlb5z-dfwnVGsA</td>\n",
       "      <td>2:14</td>\n",
       "    </tr>\n",
       "  </tbody>\n",
       "</table>\n",
       "</div>"
      ],
      "text/plain": [
       "  MovieName      MovieId             CommentAuthor  \\\n",
       "0  Iron Man  8ugaeA-nMTc  UCQzG9JFe87-FrpMAVZjX_Kg   \n",
       "1  Iron Man  8ugaeA-nMTc  UC1bmGHVTIBOerbW2P-pJsog   \n",
       "2  Iron Man  8ugaeA-nMTc  UC7A-gvQcpTmkBs1c0FJU92Q   \n",
       "3  Iron Man  8ugaeA-nMTc  UC4r37ZNp-chrosonJ2VsdEg   \n",
       "4  Iron Man  8ugaeA-nMTc  UC0QY_nzoJvlb5z-dfwnVGsA   \n",
       "\n",
       "                                    OriginalComment  \n",
       "0  honestly this is still the best marvel movie imo  \n",
       "1                                         2:10 2:11  \n",
       "2             This just shows the whole movie lmao😂  \n",
       "3                                          14 years  \n",
       "4                                              2:14  "
      ]
     },
     "execution_count": 20,
     "metadata": {},
     "output_type": "execute_result"
    }
   ],
   "source": [
    "# remove the duplicates\n",
    "df_comments.drop_duplicates(subset = ['CommentAuthor', 'OriginalComment'], inplace = True, keep = False)\n",
    "df_comments.head()"
   ]
  },
  {
   "cell_type": "markdown",
   "metadata": {},
   "source": [
    "Now let's see how many comments are left, we will check for duplicates once more to ensure the duplicates are gone."
   ]
  },
  {
   "cell_type": "code",
   "execution_count": 21,
   "metadata": {},
   "outputs": [
    {
     "name": "stdout",
     "output_type": "stream",
     "text": [
      "\n",
      "Number of rows in dataset : 89336\n",
      "Number of rows deduped : 89336\n",
      "\n"
     ]
    }
   ],
   "source": [
    "# drop duplicates if any\n",
    "n_rows_comments = df_comments.shape[0]\n",
    "n_rows_comments_deduped = df_comments.drop_duplicates(subset = ['CommentAuthor', 'OriginalComment']).shape[0]\n",
    "print(\"\"\"\n",
    "Number of rows in dataset : {}\n",
    "Number of rows deduped : {}\n",
    "\"\"\".format(n_rows_comments, n_rows_comments_deduped))"
   ]
  },
  {
   "cell_type": "markdown",
   "metadata": {},
   "source": [
    "Let's see some simple statistics for our dataset.\n",
    "\n",
    "- How many comments total?\n",
    "- How many comment authors?\n",
    "- How many movies?\n",
    "- Which movie has the most comments?\n",
    "- What is the average number of comments per movie?"
   ]
  },
  {
   "cell_type": "code",
   "execution_count": 35,
   "metadata": {},
   "outputs": [
    {
     "data": {
      "text/plain": [
       "3436.0"
      ]
     },
     "execution_count": 35,
     "metadata": {},
     "output_type": "execute_result"
    }
   ],
   "source": [
    "avg_number_of_comments = df_comments.groupby(by = 'MovieName').size().mean()\n",
    "avg_number_of_comments"
   ]
  },
  {
   "cell_type": "code",
   "execution_count": 38,
   "metadata": {},
   "outputs": [
    {
     "name": "stdout",
     "output_type": "stream",
     "text": [
      "\n",
      "Dataset Stats:\n",
      "\n",
      "89,336 comments\n",
      "\n",
      "77,533 comment authors\n",
      "\n",
      "26 unique movies\n",
      "\n",
      "\"Black Widow\" contains the most comments - (4,005 comments)\n",
      "\n",
      "On average, the movies in the dataset contain 3,436 comments\n",
      "\n",
      "\n",
      "\n"
     ]
    }
   ],
   "source": [
    "# answering the questions above\n",
    "n_comments = df_comments.shape[0]\n",
    "n_comment_authors = df_comments['CommentAuthor'].nunique()\n",
    "n_movies = df_comments['MovieName'].nunique()\n",
    "movie_with_most_comments, most_comments_count = df_comments.groupby(by = 'MovieName').size()\\\n",
    "    .sort_values(ascending = False).reset_index(name = 'comment_count').iloc[0].values\n",
    "avg_number_of_comments = int(df_comments.groupby(by = 'MovieName').size().mean())\n",
    "\n",
    "print(\"\"\"\n",
    "Dataset Stats:\\n\n",
    "{:,} comments\\n\n",
    "{:,} comment authors\\n\n",
    "{} unique movies\\n\n",
    "\"{}\" contains the most comments - ({:,} comments)\\n\n",
    "On average, the movies in the dataset contain {:,} comments\\n\n",
    "\"\"\".format(n_comments, n_comment_authors, n_movies, movie_with_most_comments, most_comments_count, avg_number_of_comments))\n",
    "print('')"
   ]
  }
 ],
 "metadata": {
  "interpreter": {
   "hash": "2490e89887c5dd6dbc46ffe7d8090ed95b04d4bf405fecddde37e7b00f916a0e"
  },
  "kernelspec": {
   "display_name": "Python 3.9.5 ('venv': venv)",
   "language": "python",
   "name": "python3"
  },
  "language_info": {
   "codemirror_mode": {
    "name": "ipython",
    "version": 3
   },
   "file_extension": ".py",
   "mimetype": "text/x-python",
   "name": "python",
   "nbconvert_exporter": "python",
   "pygments_lexer": "ipython3",
   "version": "3.9.5"
  },
  "orig_nbformat": 4
 },
 "nbformat": 4,
 "nbformat_minor": 2
}
