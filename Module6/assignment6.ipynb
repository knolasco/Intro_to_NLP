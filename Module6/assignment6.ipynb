{
 "cells": [
  {
   "cell_type": "markdown",
   "metadata": {},
   "source": [
    "# Model Building with First Order Logic\n",
    "\n",
    "Kevin Nolasco\n",
    "\n",
    "Cabrini University\n",
    "\n",
    "MCIS565 - Natural Language Processing\n",
    "\n",
    "05/01/2022\n",
    "\n",
    "## Prompt\n",
    "\n",
    "Select three or four contiguous sentences from a book for children. A possible source of examples are the collections of stories in nltk.corpus.gutenberg: bryant-stories.txt, burgess-busterbrown.txt and edgeworth-parents.txt. Develop a grammar which will allow your sentences to be translated into first order logic, and build a model which will allow those translations to be checked for truth or falsity."
   ]
  },
  {
   "cell_type": "code",
   "execution_count": 6,
   "metadata": {},
   "outputs": [],
   "source": [
    "import nltk\n",
    "all_sents = nltk.corpus.gutenberg.sents('bryant-stories.txt')"
   ]
  },
  {
   "cell_type": "code",
   "execution_count": 11,
   "metadata": {},
   "outputs": [
    {
     "name": "stdout",
     "output_type": "stream",
     "text": [
      "2863\n",
      "0 ['[', 'Stories', 'to', 'Tell', 'to', 'Children', 'by', 'Sara', 'Cone', 'Bryant', '1918', ']']\n",
      "1 ['TWO', 'LITTLE', 'RIDDLES', 'IN', 'RHYME']\n",
      "2 ['There', \"'\", 's', 'a', 'garden', 'that', 'I', 'ken', ',', 'Full', 'of', 'little', 'gentlemen', ';', 'Little', 'caps', 'of', 'blue', 'they', 'wear', ',', 'And', 'green', 'ribbons', ',', 'very', 'fair', '.']\n",
      "3 ['(', 'Flax', '.)']\n",
      "4 ['From', 'house', 'to', 'house', 'he', 'goes', ',', 'A', 'messenger', 'small', 'and', 'slight', ',', 'And', 'whether', 'it', 'rains', 'or', 'snows', ',', 'He', 'sleeps', 'outside', 'in', 'the', 'night', '.']\n",
      "5 ['(', 'The', 'path', '.)']\n",
      "6 ['THE', 'LITTLE', 'YELLOW', 'TULIP']\n",
      "7 ['Once', 'there', 'was', 'a', 'little', 'yellow', 'Tulip', ',', 'and', 'she', 'lived', 'down', 'in', 'a', 'little', 'dark', 'house', 'under', 'the', 'ground', '.']\n",
      "8 ['One', 'day', 'she', 'was', 'sitting', 'there', ',', 'all', 'by', 'herself', ',', 'and', 'it', 'was', 'very', 'still', '.']\n",
      "9 ['Suddenly', ',', 'she', 'heard', 'a', 'little', '_tap', ',', 'tap', ',', 'tap_', ',', 'at', 'the', 'door', '.']\n",
      "10 ['\"', 'Who', 'is', 'that', '?\"']\n",
      "11 ['she', 'said', '.']\n",
      "12 ['\"', 'It', \"'\", 's', 'the', 'Rain', ',', 'and', 'I', 'want', 'to', 'come', 'in', ',\"', 'said', 'a', 'soft', ',', 'sad', ',', 'little', 'voice', '.']\n",
      "13 ['\"', 'No', ',', 'you', 'can', \"'\", 't', 'come', 'in', ',\"', 'the', 'little', 'Tulip', 'said', '.']\n",
      "14 ['By', 'and', 'by', 'she', 'heard', 'another', 'little', '_tap', ',', 'tap', ',', 'tap_', 'on', 'the', 'window', '-', 'pane', '.']\n",
      "15 ['\"', 'Who', 'is', 'there', '?\"']\n",
      "16 ['she', 'said', '.']\n",
      "17 ['The', 'same', 'soft', 'little', 'voice', 'answered', ',', '\"', 'It', \"'\", 's', 'the', 'Rain', ',', 'and', 'I', 'want', 'to', 'come', 'in', '!\"']\n",
      "18 ['\"', 'No', ',', 'you', 'can', \"'\", 't', 'come', 'in', ',\"', 'said', 'the', 'little', 'Tulip', '.']\n",
      "19 ['Then', 'it', 'was', 'very', 'still', 'for', 'a', 'long', 'time', '.']\n"
     ]
    }
   ],
   "source": [
    "print(len(all_sents))\n",
    "for ind ,sents in enumerate(all_sents[:20]):\n",
    "    print(ind, sents)"
   ]
  },
  {
   "cell_type": "markdown",
   "metadata": {},
   "source": [
    "By looking at the first 20 sentences, we can see that sentences 7,8 and 9 are good sentences to use for this project."
   ]
  },
  {
   "cell_type": "code",
   "execution_count": 13,
   "metadata": {},
   "outputs": [
    {
     "name": "stdout",
     "output_type": "stream",
     "text": [
      "['Once', 'there', 'was', 'a', 'little', 'yellow', 'Tulip', ',', 'and', 'she', 'lived', 'down', 'in', 'a', 'little', 'dark', 'house', 'under', 'the', 'ground', '.']\n",
      "['One', 'day', 'she', 'was', 'sitting', 'there', ',', 'all', 'by', 'herself', ',', 'and', 'it', 'was', 'very', 'still', '.']\n",
      "['Suddenly', ',', 'she', 'heard', 'a', 'little', '_tap', ',', 'tap', ',', 'tap_', ',', 'at', 'the', 'door', '.']\n"
     ]
    }
   ],
   "source": [
    "sentences_to_use = all_sents[7:10]\n",
    "for sent in sentences_to_use:\n",
    "    print(sent)"
   ]
  }
 ],
 "metadata": {
  "interpreter": {
   "hash": "2356144fe0ac51fab68dc1c6bfa977c118efc9fe44eaadb7d7a066f16e6a87e4"
  },
  "kernelspec": {
   "display_name": "Python 3.9.5 ('venv': venv)",
   "language": "python",
   "name": "python3"
  },
  "language_info": {
   "codemirror_mode": {
    "name": "ipython",
    "version": 3
   },
   "file_extension": ".py",
   "mimetype": "text/x-python",
   "name": "python",
   "nbconvert_exporter": "python",
   "pygments_lexer": "ipython3",
   "version": "3.9.5"
  },
  "orig_nbformat": 4
 },
 "nbformat": 4,
 "nbformat_minor": 2
}
