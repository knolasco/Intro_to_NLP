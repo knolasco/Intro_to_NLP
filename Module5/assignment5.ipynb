{
 "cells": [
  {
   "cell_type": "markdown",
   "metadata": {},
   "source": [
    "Kevin Nolasco\n",
    "\n",
    "Cabrini University\n",
    "\n",
    "MCIS565 - Natural Language Processing\n",
    "\n",
    "04/24/2022"
   ]
  },
  {
   "cell_type": "markdown",
   "metadata": {},
   "source": [
    "# Prompt\n",
    "\n",
    "Seemingly synonymous verbs have slightly different syntactic properties. Consider the patterns of grammaticality for the verbs loaded, filled, and dumped below. Write grammar productions to handle such data.\n",
    "\n",
    "1. The farmer loaded the cart with sand\n",
    "2. The farmer loaded sand into the cart\n",
    "3. The farmer filled the cart with sand\n",
    "4. The farmer filled sand into the cart\n",
    "5. The farmer dumped the cart with sand\n",
    "6. The farmer dumped sand into the cart"
   ]
  },
  {
   "cell_type": "code",
   "execution_count": null,
   "metadata": {},
   "outputs": [],
   "source": []
  }
 ],
 "metadata": {
  "interpreter": {
   "hash": "12bcbf07809bce90c751e6517e7c18a04122eaa3cd562fe19d53cc2f84907da1"
  },
  "kernelspec": {
   "display_name": "Python 3.9.5 ('venv': venv)",
   "language": "python",
   "name": "python3"
  },
  "language_info": {
   "name": "python",
   "version": "3.9.5"
  },
  "orig_nbformat": 4
 },
 "nbformat": 4,
 "nbformat_minor": 2
}
