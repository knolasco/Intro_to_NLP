{
 "cells": [
  {
   "cell_type": "markdown",
   "metadata": {},
   "source": [
    "# Grammar Productions for Synonymous Verbs\n",
    "\n",
    "Kevin Nolasco\n",
    "\n",
    "Cabrini University\n",
    "\n",
    "MCIS565 - Natural Language Processing\n",
    "\n",
    "04/24/2022"
   ]
  },
  {
   "cell_type": "markdown",
   "metadata": {},
   "source": [
    "# Prompt\n",
    "\n",
    "Seemingly synonymous verbs have slightly different syntactic properties. Consider the patterns of grammaticality for the verbs *loaded*, *filled*, and *dumped* below. Write grammar productions to handle such data.\n",
    "\n",
    "1. The farmer loaded the cart with sand\n",
    "2. The farmer loaded sand into the cart\n",
    "3. The farmer filled the cart with sand\n",
    "4. The farmer filled sand into the cart\n",
    "5. The farmer dumped the cart with sand\n",
    "6. The farmer dumped sand into the cart"
   ]
  },
  {
   "cell_type": "markdown",
   "metadata": {},
   "source": [
    "## Approach\n",
    "\n",
    "We will build 3 different grammars for each sentence group. Since we are using the word *with* and *into*, our grammar will use a prepositional phrase.\n",
    "\n",
    "Let's quickly create a definition bullet list so we are familiar with the terms being used when creating the grammar.\n",
    "\n",
    "- S = sentence; eg. I like to write code.\n",
    "- NP = Noun Phrase; eg. Kevin *or* The coder\n",
    "- VP = Verb Phrase; eg. likes to code\n",
    "- PP = Prepositional Phrase; eg. on his desk\n",
    "- N = Noun; eg. coder\n",
    "- V = Verb; eg. likes\n",
    "- P = Preposition; eg. on\n",
    "- Det = determiner; eg. the"
   ]
  },
  {
   "cell_type": "markdown",
   "metadata": {},
   "source": [
    "All of our grammars will be defined as sentences that start with a NP and end with VP."
   ]
  },
  {
   "cell_type": "code",
   "execution_count": 5,
   "metadata": {},
   "outputs": [],
   "source": [
    "from nltk import CFG, ChartParser\n",
    "import nltk"
   ]
  },
  {
   "cell_type": "markdown",
   "metadata": {},
   "source": [
    "## Verb 1 - Loaded"
   ]
  },
  {
   "cell_type": "code",
   "execution_count": 27,
   "metadata": {},
   "outputs": [],
   "source": [
    "def parse_and_print(grammar, sent1, sent2):\n",
    "    \"\"\"\n",
    "    Convert grammar from string to grammar object,\n",
    "    Create parser from the grammar object,\n",
    "    parse each sentence and print the tree\n",
    "    \"\"\"\n",
    "    cfg = CFG.fromstring(grammar)\n",
    "    parser = ChartParser(cfg)\n",
    "    for ind, sent in enumerate([sent1, sent2]):\n",
    "        tokens = sent.lower().split()\n",
    "        print('=================================')\n",
    "        print('Parsing sentence #{}'.format(ind + 1))\n",
    "        print('Original sentence: \"{}\"\\n'.format(sent))\n",
    "        for tree in parser.parse(tokens):\n",
    "            print(tree)\n",
    "        print('================================\\n')"
   ]
  },
  {
   "cell_type": "code",
   "execution_count": 21,
   "metadata": {},
   "outputs": [
    {
     "name": "stdout",
     "output_type": "stream",
     "text": [
      "=================================\n",
      "Parsing sentence #1\n",
      "Original sentence: \"The farmer loaded the cart with sand\"\n",
      "\n",
      "(S\n",
      "  (NP (Det the) (N farmer))\n",
      "  (VP (V loaded) (NP (Det the) (N cart)) (PP (P with) (NP (N sand)))))\n",
      "================================\n",
      "\n",
      "=================================\n",
      "Parsing sentence #2\n",
      "Original sentence: \"The farmer loaded sand into the cart\"\n",
      "\n",
      "(S\n",
      "  (NP (Det the) (N farmer))\n",
      "  (VP (V loaded) (NP (N sand)) (PP (P into) (NP (Det the) (N cart)))))\n",
      "================================\n",
      "\n"
     ]
    }
   ],
   "source": [
    "loaded_grammar = \"\"\"\n",
    "S -> NP VP\n",
    "NP -> Det N | N\n",
    "VP -> V NP PP | V\n",
    "PP -> P NP\n",
    "N -> 'farmer' | 'cart' | 'sand'\n",
    "V -> 'loaded'\n",
    "Det -> 'the'\n",
    "P -> 'with' | 'into'\n",
    "\"\"\"\n",
    "\n",
    "sent1 = 'The farmer loaded the cart with sand'\n",
    "sent2 = 'The farmer loaded sand into the cart'\n",
    "\n",
    "parse_and_print(loaded_grammar, sent1, sent2)"
   ]
  },
  {
   "cell_type": "markdown",
   "metadata": {},
   "source": [
    "As we can see from above, the sentences were successfully parsed by the grammar productions we created."
   ]
  },
  {
   "cell_type": "markdown",
   "metadata": {},
   "source": [
    "## Verb 2 - Filled"
   ]
  },
  {
   "cell_type": "code",
   "execution_count": 24,
   "metadata": {},
   "outputs": [
    {
     "name": "stdout",
     "output_type": "stream",
     "text": [
      "=================================\n",
      "Parsing sentence #1\n",
      "Original sentence: \"The farmer filled the cart with sand\"\n",
      "\n",
      "(S\n",
      "  (NP (Det the) (N farmer))\n",
      "  (VP (V filled) (NP (Det the) (N cart)) (PP (P with) (NP (N sand)))))\n",
      "================================\n",
      "\n",
      "=================================\n",
      "Parsing sentence #2\n",
      "Original sentence: \"The farmer filled sand into the cart\"\n",
      "\n",
      "(S\n",
      "  (NP (Det the) (N farmer))\n",
      "  (VP (V filled) (NP (N sand)) (PP (P into) (NP (Det the) (N cart)))))\n",
      "================================\n",
      "\n"
     ]
    }
   ],
   "source": [
    "filled_grammar = \"\"\"\n",
    "S -> NP VP\n",
    "NP -> Det N | N\n",
    "VP -> V NP PP | V\n",
    "PP -> P NP\n",
    "N -> 'farmer' | 'cart' | 'sand'\n",
    "V -> 'filled'\n",
    "Det -> 'the'\n",
    "P -> 'with' | 'into'\n",
    "\"\"\"\n",
    "\n",
    "sent1 = 'The farmer filled the cart with sand'\n",
    "sent2 = 'The farmer filled sand into the cart'\n",
    "\n",
    "parse_and_print(filled_grammar, sent1, sent2)"
   ]
  },
  {
   "cell_type": "markdown",
   "metadata": {},
   "source": [
    "As we can see from above, the sentences were successfully parsed by the grammar productions we created."
   ]
  },
  {
   "cell_type": "markdown",
   "metadata": {},
   "source": [
    "## Verb 3 - Dumped"
   ]
  },
  {
   "cell_type": "code",
   "execution_count": 26,
   "metadata": {},
   "outputs": [
    {
     "name": "stdout",
     "output_type": "stream",
     "text": [
      "=================================\n",
      "Parsing sentence #1\n",
      "Original sentence: \"The farmer dumped the cart with sand\"\n",
      "\n",
      "(S\n",
      "  (NP (Det the) (N farmer))\n",
      "  (VP (V dumped) (NP (Det the) (N cart)) (PP (P with) (NP (N sand)))))\n",
      "================================\n",
      "\n",
      "=================================\n",
      "Parsing sentence #2\n",
      "Original sentence: \"The farmer dumped sand into the cart\"\n",
      "\n",
      "(S\n",
      "  (NP (Det the) (N farmer))\n",
      "  (VP (V dumped) (NP (N sand)) (PP (P into) (NP (Det the) (N cart)))))\n",
      "================================\n",
      "\n"
     ]
    }
   ],
   "source": [
    "dumped_grammar = \"\"\"\n",
    "S -> NP VP\n",
    "NP -> Det N | N\n",
    "VP -> V NP PP | V\n",
    "PP -> P NP\n",
    "N -> 'farmer' | 'cart' | 'sand'\n",
    "V -> 'dumped'\n",
    "Det -> 'the'\n",
    "P -> 'with' | 'into'\n",
    "\"\"\"\n",
    "\n",
    "sent1 = 'The farmer dumped the cart with sand'\n",
    "sent2 = 'The farmer dumped sand into the cart'\n",
    "\n",
    "parse_and_print(dumped_grammar, sent1, sent2)"
   ]
  },
  {
   "cell_type": "markdown",
   "metadata": {},
   "source": [
    "As we can see from above, the sentences were successfully parsed by the grammar productions we created."
   ]
  },
  {
   "cell_type": "markdown",
   "metadata": {},
   "source": [
    "## Summary\n",
    "If we take a close look at all of the grammars we created, the only difference between all of them is the verb that is being used. We will redo all of these sentences with a single grammar that can handle all of the sentences at once."
   ]
  },
  {
   "cell_type": "code",
   "execution_count": 28,
   "metadata": {},
   "outputs": [],
   "source": [
    "def parse_and_print_all(grammar, sentences):\n",
    "    \"\"\"\n",
    "    Convert grammar from string to grammar object,\n",
    "    Create parser from the grammar object,\n",
    "    parse each sentence and print the tree\n",
    "    \"\"\"\n",
    "    cfg = CFG.fromstring(grammar)\n",
    "    parser = ChartParser(cfg)\n",
    "    for ind, sent in enumerate(sentences):\n",
    "        tokens = sent.lower().split()\n",
    "        print('=================================')\n",
    "        print('Parsing sentence #{}'.format(ind + 1))\n",
    "        print('Original sentence: \"{}\"\\n'.format(sent))\n",
    "        for tree in parser.parse(tokens):\n",
    "            print(tree)\n",
    "        print('================================\\n')"
   ]
  },
  {
   "cell_type": "code",
   "execution_count": 30,
   "metadata": {},
   "outputs": [
    {
     "name": "stdout",
     "output_type": "stream",
     "text": [
      "=================================\n",
      "Parsing sentence #1\n",
      "Original sentence: \"The farmer loaded the cart with sand\"\n",
      "\n",
      "(S\n",
      "  (NP (Det the) (N farmer))\n",
      "  (VP (V loaded) (NP (Det the) (N cart)) (PP (P with) (NP (N sand)))))\n",
      "================================\n",
      "\n",
      "=================================\n",
      "Parsing sentence #2\n",
      "Original sentence: \"The farmer loaded sand into the cart\"\n",
      "\n",
      "(S\n",
      "  (NP (Det the) (N farmer))\n",
      "  (VP (V loaded) (NP (N sand)) (PP (P into) (NP (Det the) (N cart)))))\n",
      "================================\n",
      "\n",
      "=================================\n",
      "Parsing sentence #3\n",
      "Original sentence: \"The farmer filled the cart with sand\"\n",
      "\n",
      "(S\n",
      "  (NP (Det the) (N farmer))\n",
      "  (VP (V filled) (NP (Det the) (N cart)) (PP (P with) (NP (N sand)))))\n",
      "================================\n",
      "\n",
      "=================================\n",
      "Parsing sentence #4\n",
      "Original sentence: \"The farmer filled sand into the cart\"\n",
      "\n",
      "(S\n",
      "  (NP (Det the) (N farmer))\n",
      "  (VP (V filled) (NP (N sand)) (PP (P into) (NP (Det the) (N cart)))))\n",
      "================================\n",
      "\n",
      "=================================\n",
      "Parsing sentence #5\n",
      "Original sentence: \"The farmer dumped the cart with sand\"\n",
      "\n",
      "(S\n",
      "  (NP (Det the) (N farmer))\n",
      "  (VP (V dumped) (NP (Det the) (N cart)) (PP (P with) (NP (N sand)))))\n",
      "================================\n",
      "\n",
      "=================================\n",
      "Parsing sentence #6\n",
      "Original sentence: \"The farmer dumped sand into the cart\"\n",
      "\n",
      "(S\n",
      "  (NP (Det the) (N farmer))\n",
      "  (VP (V dumped) (NP (N sand)) (PP (P into) (NP (Det the) (N cart)))))\n",
      "================================\n",
      "\n"
     ]
    }
   ],
   "source": [
    "grammar_for_all = \"\"\"\n",
    "S -> NP VP\n",
    "NP -> Det N | N\n",
    "VP -> V NP PP | V\n",
    "PP -> P NP\n",
    "N -> 'farmer' | 'cart' | 'sand'\n",
    "V -> 'dumped' | 'loaded' | 'filled'\n",
    "Det -> 'the'\n",
    "P -> 'with' | 'into'\n",
    "\"\"\"\n",
    "\n",
    "sent1 = 'The farmer loaded the cart with sand'\n",
    "sent2 = 'The farmer loaded sand into the cart'\n",
    "sent3 = 'The farmer filled the cart with sand'\n",
    "sent4 = 'The farmer filled sand into the cart'\n",
    "sent5 = 'The farmer dumped the cart with sand'\n",
    "sent6 = 'The farmer dumped sand into the cart'\n",
    "\n",
    "sentences = [sent1, sent2, sent3, sent4, sent5, sent6]\n",
    "\n",
    "parse_and_print_all(grammar_for_all, sentences)"
   ]
  },
  {
   "cell_type": "markdown",
   "metadata": {},
   "source": [
    "As you can see from above, the grammar we created that includes the different verbs (*dumped*, *filled*, *loaded*) as options for the verb successfully parse all sentences provided."
   ]
  },
  {
   "cell_type": "markdown",
   "metadata": {},
   "source": [
    "# Conclusion"
   ]
  },
  {
   "cell_type": "markdown",
   "metadata": {},
   "source": [
    "In this module I was able to successfully apply what I learned about grammar productions into 6 different sentence examples. Although these were basic statements, this example can serve as a building block for tackling harder and more challenging sentences or corpa."
   ]
  }
 ],
 "metadata": {
  "interpreter": {
   "hash": "12bcbf07809bce90c751e6517e7c18a04122eaa3cd562fe19d53cc2f84907da1"
  },
  "kernelspec": {
   "display_name": "Python 3.9.5 ('venv': venv)",
   "language": "python",
   "name": "python3"
  },
  "language_info": {
   "codemirror_mode": {
    "name": "ipython",
    "version": 3
   },
   "file_extension": ".py",
   "mimetype": "text/x-python",
   "name": "python",
   "nbconvert_exporter": "python",
   "pygments_lexer": "ipython3",
   "version": "3.9.5"
  },
  "orig_nbformat": 4
 },
 "nbformat": 4,
 "nbformat_minor": 2
}
