{
 "cells": [
  {
   "cell_type": "markdown",
   "metadata": {},
   "source": [
    "# American Soundex Encoder - Assignment 2\n",
    "\n",
    "Kevin Nolasco\n",
    "\n",
    "Cabrini University\n",
    "\n",
    "MCIS565 - Natural Language Processing\n",
    "\n",
    "04/03/2022\n",
    "\n",
    "# Introduction\n",
    "\n",
    "The purpose of this notebook is to practice processing text data by applying the American Soundex algorithm to words. [According to the Soundex page on Wikipedia.org](https://en.wikipedia.org/wiki/Soundex), \"Soundex is a phonetic algorithm for indexing names by sound, as pronounced in English\". The algorithm is as follows:\n",
    "\n",
    "    [b, f, p, v] → 1\n",
    "    [c, g, j, k, q, s, x, z] → 2\n",
    "    [d, t] → 3\n",
    "    [l] → 4\n",
    "    [m, n] → 5\n",
    "    [r] → 6\n",
    "\n",
    "\n",
    "- Save the first letter. Map all occurrences of a, e, i, o, u, y, h, w. to zero(0)\n",
    "- Replace all consonants (include the first letter) with digits as in above.\n",
    "- Replace all adjacent same digits with one digit, and then remove all the zero (0) digits\n",
    "- If the saved letter's digit is the same as the resulting first digit, remove the digit (keep the letter).\n",
    "- Append 3 zeros if result contains less than 3 digits. Remove all except first letter and 3 digits after it (This step same as [4.] in explanation above).\n",
    "\n",
    "Below is the implementation of this algorithm by building a class. I wanted to challenge myself and make the class flexible enough to deal with a single input and a list of strings and I was able to accomplish that by taking advantage or list comprehensions and for loops."
   ]
  },
  {
   "cell_type": "code",
   "execution_count": 152,
   "metadata": {},
   "outputs": [],
   "source": [
    "class AmericanSoundex:\n",
    "    \"\"\"\n",
    "    The steps taken from the wiki page are broken into methods for this class.\n",
    "    Each class will have a definition taken straight from the wiki.\n",
    "    \"\"\"\n",
    "\n",
    "    def __init__(self, input_word):\n",
    "        \"\"\"\n",
    "        Save the first letter.\n",
    "        Check type.\n",
    "        \"\"\"\n",
    "        self.input_type = type(input_word)\n",
    "        self.input_word = input_word\n",
    "        self.raise_flag = False\n",
    "        if self.input_type == str:\n",
    "            self.words_raw = [self.input_word]\n",
    "            if (len(self.input_word) < 2):\n",
    "                print ('Please input a word that has 2 or more characters!')\n",
    "                self.raise_flag = True\n",
    "                return\n",
    "        else:\n",
    "            self.words_raw = self.input_word\n",
    "            # check that all words are good length\n",
    "            self.raise_flag = not all([len(word) >= 2 for word in self.words_raw])\n",
    "\n",
    "            if self.raise_flag:\n",
    "                bad_words = [word for word in self.words_raw if len(word) < 2]\n",
    "                print('Please ensure all words have 2 or more characters!')\n",
    "                print('The following inputs need to be corrected: {}'.format(', '.join(bad_words)))\n",
    "\n",
    "        self.first_chars = [word[0] for word in self.words_raw]\n",
    "        self.words = [word.lower() for word in self.words_raw]\n",
    "        self.final_words = []\n",
    "    \n",
    "    def map_vowels(self):\n",
    "        \"\"\"\n",
    "        Map all occurrences of a, e, i, o, u, y, h, w. to zero(0)\n",
    "        \"\"\"\n",
    "        vowels = ['a','e','i','o','u','y','h','w']\n",
    "        self.words_in_progress = [''.join([char if char not in vowels else '0' for char in word]) for word in self.words]\n",
    "\n",
    "    def check_consonant(self, consonant):\n",
    "        \"\"\"\n",
    "        used by .map_consonants()\n",
    "        and .map_first_letter()\n",
    "        \"\"\"\n",
    "        if consonant in ['b','f','p','v']:\n",
    "            return '1'\n",
    "        elif consonant in ['c','g','j','k','q','s','x','z']:\n",
    "            return '2'\n",
    "        elif consonant in ['d', 't']:\n",
    "            return '3'\n",
    "        elif consonant in ['l']:\n",
    "            return '4'\n",
    "        elif consonant in ['m','n']:\n",
    "            return '5'\n",
    "        elif consonant in ['r']:\n",
    "            return '6'\n",
    "        else:\n",
    "            return consonant\n",
    "\n",
    "    def map_consonants(self):\n",
    "        \"\"\"\n",
    "        Replace all consonants (include the first letter) with digits as in [2.] above\n",
    "        \"\"\"\n",
    "        self.words_in_progress = [''.join([self.check_consonant(char) for char in word]) for word in self.words_in_progress]\n",
    "\n",
    "    def drop_adjacent_chars(self):\n",
    "        \"\"\"\n",
    "        Replace all adjacent same digits with one digit\n",
    "        word_in_progress will no longer contain first letter after this step\n",
    "        \"\"\"\n",
    "        tmp_list = []\n",
    "        for word in self.words_in_progress:\n",
    "            ind = 1\n",
    "            short_word = [char for char in word]\n",
    "            while ind < len(short_word):\n",
    "                if short_word[ind] == short_word[ind - 1]:\n",
    "                    short_word.pop(ind)\n",
    "                    ind -= 1\n",
    "                ind += 1\n",
    "            tmp_list.append(short_word[1:])\n",
    "\n",
    "        self.words_in_progress = tmp_list\n",
    "    \n",
    "    def drop_zeros(self):\n",
    "        \"\"\"\n",
    "        remove all the zero (0) digits\n",
    "        \"\"\"\n",
    "        self.words_in_progress = [''.join([char for char in word if char != '0']) for word in self.words_in_progress]\n",
    "\n",
    "    def map_first_letter(self):\n",
    "        \"\"\"\n",
    "        used by .check_first_digit()\n",
    "        \"\"\"\n",
    "        self.first_char_digits = [self.check_consonant(char) for char in self.first_chars]\n",
    "    \n",
    "\n",
    "    def check_first_digit(self):\n",
    "        \"\"\"\n",
    "        If the saved letter's digit is the same as the resulting first digit, remove the digit (keep the letter).\n",
    "        \"\"\"\n",
    "        self.map_first_letter()\n",
    "        for ind, word in enumerate(self.words_in_progress):\n",
    "            while word[0] == self.first_char_digits[ind]:\n",
    "                self.words_in_progress[ind] = ''.join(char for i, char in enumerate(word) if i != 0)\n",
    "    \n",
    "    def padding_or_cropping(self):\n",
    "        \"\"\"\n",
    "        Padding: Append 3 zeros if result contains less than 3 digits. \n",
    "        Cropping: Remove all except first letter and 3 digits after it\n",
    "        \"\"\"\n",
    "        for ind, word in enumerate(self.words_in_progress):\n",
    "            if len(word) < 3:\n",
    "                self.final_words.append(self.first_chars[ind] + word.ljust(3, '0'))\n",
    "            else:\n",
    "                self.final_words.append(self.first_chars[ind]  + word[:3])\n",
    "\n",
    "    def print_result(self):\n",
    "        if len(self.words_raw) == 1:\n",
    "            for ind, word in enumerate(self.words_raw):\n",
    "                print('Original Word: {}'.format(word))\n",
    "                print('American Soundex Encoded Word: {}'.format(self.final_words[ind]))\n",
    "        else:\n",
    "            for ind, word in enumerate(self.words_raw):\n",
    "                print('=====================================\\n')\n",
    "                print('Original Word: {}'.format(word))\n",
    "                print('American Soundex Encoded Word: {}'.format(self.final_words[ind]))\n",
    "                print('\\n=====================================\\n')\n",
    "\n",
    "    \n",
    "    def encode_and_show_result(self):\n",
    "        \"\"\"\n",
    "        only print results when the input is appropriate\n",
    "        \"\"\"\n",
    "        if not self.raise_flag:\n",
    "            self.map_vowels()\n",
    "            self.map_consonants()\n",
    "            self.drop_adjacent_chars()\n",
    "            self.drop_zeros()\n",
    "            self.check_first_digit()\n",
    "            self.padding_or_cropping()\n",
    "            self.print_result()\n",
    "        else:\n",
    "            print('Error: algorithm will not run if input word is less than 2 characters.')\n",
    "            print('Please update your input and try again.')"
   ]
  },
  {
   "cell_type": "markdown",
   "metadata": {},
   "source": [
    "### Examples\n",
    "\n",
    "Let's take some examples to test the code above. We will build this object 3 times. The first will take a string as input, the second will take the a list containing a single string as input, and the third will take a list with 5 examples as input."
   ]
  },
  {
   "cell_type": "markdown",
   "metadata": {},
   "source": [
    "#### Single String\n",
    "\n",
    "From the wikipage, we know that 'Honeyman' should be encoded as \"H555\". Let's see if the algorithm works as intended for this word."
   ]
  },
  {
   "cell_type": "code",
   "execution_count": 153,
   "metadata": {},
   "outputs": [
    {
     "name": "stdout",
     "output_type": "stream",
     "text": [
      "Original Word: Honeyman\n",
      "American Soundex Encoded Word: H555\n"
     ]
    }
   ],
   "source": [
    "my_encoder_with_string_input = AmericanSoundex('Honeyman')\n",
    "my_encoder_with_string_input.encode_and_show_result()"
   ]
  },
  {
   "cell_type": "markdown",
   "metadata": {},
   "source": [
    "Looks good!"
   ]
  },
  {
   "cell_type": "markdown",
   "metadata": {},
   "source": [
    "#### List with Single String\n",
    "I expect to see the same output as above."
   ]
  },
  {
   "cell_type": "code",
   "execution_count": 154,
   "metadata": {},
   "outputs": [
    {
     "name": "stdout",
     "output_type": "stream",
     "text": [
      "Original Word: Honeyman\n",
      "American Soundex Encoded Word: H555\n"
     ]
    }
   ],
   "source": [
    "my_encoder_with_single_string_list = AmericanSoundex(['Honeyman'])\n",
    "my_encoder_with_single_string_list.encode_and_show_result()"
   ]
  },
  {
   "cell_type": "markdown",
   "metadata": {},
   "source": [
    "Looks good again."
   ]
  },
  {
   "cell_type": "markdown",
   "metadata": {},
   "source": [
    "#### Multi String List Input\n",
    "\n",
    "Now we will test the algorithm with multiple words at once. The new words are as follows:\n",
    "\n",
    "- 'Ashcroft' which yields 'A226'\n",
    "- 'Rupert' which yields 'R163'\n",
    "- 'Robert' which yields 'R163' (same as Rupert)\n",
    "- 'Pfister' which yields 'P236' not 'P123' (the first two letters have the same number and are coded once as 'P')"
   ]
  },
  {
   "cell_type": "code",
   "execution_count": 155,
   "metadata": {},
   "outputs": [
    {
     "name": "stdout",
     "output_type": "stream",
     "text": [
      "=====================================\n",
      "\n",
      "Original Word: Honeyman\n",
      "American Soundex Encoded Word: H555\n",
      "\n",
      "=====================================\n",
      "\n",
      "=====================================\n",
      "\n",
      "Original Word: Ashcroft\n",
      "American Soundex Encoded Word: A226\n",
      "\n",
      "=====================================\n",
      "\n",
      "=====================================\n",
      "\n",
      "Original Word: Rupert\n",
      "American Soundex Encoded Word: R163\n",
      "\n",
      "=====================================\n",
      "\n",
      "=====================================\n",
      "\n",
      "Original Word: Robert\n",
      "American Soundex Encoded Word: R163\n",
      "\n",
      "=====================================\n",
      "\n",
      "=====================================\n",
      "\n",
      "Original Word: Pfister\n",
      "American Soundex Encoded Word: P236\n",
      "\n",
      "=====================================\n",
      "\n"
     ]
    }
   ],
   "source": [
    "my_soundex_encoder_list = AmericanSoundex(['Honeyman', 'Ashcroft', 'Rupert', 'Robert', 'Pfister'])\n",
    "my_soundex_encoder_list.encode_and_show_result()"
   ]
  },
  {
   "cell_type": "markdown",
   "metadata": {},
   "source": [
    "### Quick Error Checking\n",
    "\n",
    "Let's do two examples to show that the algorithm will only accept good inputs.\n",
    "\n",
    "The first will have an input that is too short, then we will correct it based on the message."
   ]
  },
  {
   "cell_type": "code",
   "execution_count": 156,
   "metadata": {},
   "outputs": [
    {
     "name": "stdout",
     "output_type": "stream",
     "text": [
      "Please input a word that has 2 or more characters!\n",
      "Error: algorithm will not run if input word is less than 2 characters.\n",
      "Please update your input and try again.\n"
     ]
    }
   ],
   "source": [
    "bad_input = AmericanSoundex('A')\n",
    "bad_input.encode_and_show_result()"
   ]
  },
  {
   "cell_type": "code",
   "execution_count": 157,
   "metadata": {},
   "outputs": [
    {
     "name": "stdout",
     "output_type": "stream",
     "text": [
      "Original Word: As\n",
      "American Soundex Encoded Word: A200\n"
     ]
    }
   ],
   "source": [
    "corrected_input = AmericanSoundex('As')\n",
    "corrected_input.encode_and_show_result()"
   ]
  },
  {
   "cell_type": "markdown",
   "metadata": {},
   "source": [
    "Now let's pass a list as our input, the algorithm should tell us which words need correcting."
   ]
  },
  {
   "cell_type": "code",
   "execution_count": 159,
   "metadata": {},
   "outputs": [
    {
     "name": "stdout",
     "output_type": "stream",
     "text": [
      "Please ensure all words have 2 or more characters!\n",
      "The following inputs need to be corrected: a, t\n",
      "Error: algorithm will not run if input word is less than 2 characters.\n",
      "Please update your input and try again.\n"
     ]
    }
   ],
   "source": [
    "bad_inputs = AmericanSoundex(['This', 'is', 'a', 'test', 't'])\n",
    "bad_inputs.encode_and_show_result()"
   ]
  },
  {
   "cell_type": "code",
   "execution_count": 160,
   "metadata": {},
   "outputs": [
    {
     "name": "stdout",
     "output_type": "stream",
     "text": [
      "=====================================\n",
      "\n",
      "Original Word: This\n",
      "American Soundex Encoded Word: T200\n",
      "\n",
      "=====================================\n",
      "\n",
      "=====================================\n",
      "\n",
      "Original Word: is\n",
      "American Soundex Encoded Word: i200\n",
      "\n",
      "=====================================\n",
      "\n",
      "=====================================\n",
      "\n",
      "Original Word: an\n",
      "American Soundex Encoded Word: a500\n",
      "\n",
      "=====================================\n",
      "\n",
      "=====================================\n",
      "\n",
      "Original Word: test\n",
      "American Soundex Encoded Word: t230\n",
      "\n",
      "=====================================\n",
      "\n"
     ]
    }
   ],
   "source": [
    "# I will add an 'n' after 'a' even though it won't make grammatical sense\n",
    "corrected_inputs = AmericanSoundex(['This', 'is', 'an', 'test'])\n",
    "corrected_inputs.encode_and_show_result()"
   ]
  },
  {
   "cell_type": "markdown",
   "metadata": {},
   "source": [
    "# Conclusion\n",
    "\n",
    "As you can see above, I was able to implement the American Soundex algorithm with no errors and it can correctly handle many inputs at once. The algorithm is also able to handle bad inputs, and gives useful recommendations to the user so that the program can run correctly.\n",
    "\n",
    "The method that took me the most effort was the .drop_adjacent_chars() method because it changes the length of the substring when a duplicate is found. The workaround for this is to decrease the index when a change is made, and then the method works perfectly.\n",
    "\n",
    "Thank you for your time."
   ]
  }
 ],
 "metadata": {
  "interpreter": {
   "hash": "cf6ffd7f174ffd736c5e52de9e7fc7f94936da60014cef8abf803d62535ade95"
  },
  "kernelspec": {
   "display_name": "Python 3.9.5 ('venv': venv)",
   "language": "python",
   "name": "python3"
  },
  "language_info": {
   "codemirror_mode": {
    "name": "ipython",
    "version": 3
   },
   "file_extension": ".py",
   "mimetype": "text/x-python",
   "name": "python",
   "nbconvert_exporter": "python",
   "pygments_lexer": "ipython3",
   "version": "3.9.5"
  },
  "orig_nbformat": 4
 },
 "nbformat": 4,
 "nbformat_minor": 2
}
